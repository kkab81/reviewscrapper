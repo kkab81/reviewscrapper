{
 "cells": [
  {
   "cell_type": "markdown",
   "metadata": {},
   "source": [
    "# intro Image Scrapper Flask - analysis "
   ]
  },
  {
   "cell_type": "code",
   "execution_count": 1,
   "metadata": {},
   "outputs": [],
   "source": [
    "# this is project is in pycharm as imagescrapper folder\n",
    "# open in pycharm as project\n",
    "# first setup the envirnment\n",
    "# next run command in pycharm terminal as\n",
    "# pip install -r requirements.txt\n",
    "# pip install selenium\n",
    "# setup chromdriver.exe from google and note down the version\n"
   ]
  },
  {
   "cell_type": "code",
   "execution_count": 2,
   "metadata": {},
   "outputs": [],
   "source": [
    "# Task: Try to store this image in mongodb\n",
    "# task2: try to implement with clasa and object\n",
    "# task: coding std follow\n",
    "# write a function to fetch all the image based on thier name from database\n",
    "# modify the code , so that it will first search in dataabse and checkis if images are availble , if not then scrap\n"
   ]
  },
  {
   "cell_type": "code",
   "execution_count": null,
   "metadata": {},
   "outputs": [],
   "source": [
    "# deployment to cloud\n",
    "# login to gthub\n",
    "# create repository by going to your repositiries\n",
    "# go to command prompt run as admin\n",
    "# type git init\n",
    "\n",
    "# if git doesn't recognise, then do\n",
    "# how to install github on local\n",
    "# go to google\n",
    "# searchfor git downlaod\n",
    "# download git for windows 'https://git-scm.com/download/win'\n",
    "# do a 64bit windows setup\n",
    "# download teh .exe file\n",
    "# install git\n",
    "\n",
    "# after install, now check git init\n",
    "\n",
    "# then got o to folder where the code is present\n",
    "# CD C:\\Users\\KHURAMKHAN\\Ineoron\\ReviewFlask\n",
    "# check the list using\n",
    "# dir\n",
    "\n",
    "# got to https://devcenter.heroku.com/articles/heroku-cli\n",
    "# login with your id\n",
    "# go to dev page link above\n",
    "# go to windows installer (to install heroku cli)\n",
    "\n",
    "# once heroku cli is installed\n",
    "# got o https://dashboard.heroku.com/terms-of-service\n",
    "# click new and give app name\n",
    "\n",
    "# go to command\n",
    "# type\n",
    "# git init\n",
    "# git add .\n",
    "# git commit -m \"first commit\n",
    "# git branch -M main\n",
    "# git remote add origin https://github.com/kkab81/reviewscrapper.git\n",
    "# git push -u origin main\n",
    "\n",
    "# if login issue to git hub do\n",
    "# git config --global user.email \"kkab81@gmail.com\"\n",
    "# git config --global user.name \"kkab81\"\n",
    "\n",
    "# then follow the above steps from git branch -M main\n",
    "\n"
   ]
  }
 ],
 "metadata": {
  "kernelspec": {
   "display_name": "Python 3",
   "language": "python",
   "name": "python3"
  },
  "language_info": {
   "codemirror_mode": {
    "name": "ipython",
    "version": 3
   },
   "file_extension": ".py",
   "mimetype": "text/x-python",
   "name": "python",
   "nbconvert_exporter": "python",
   "pygments_lexer": "ipython3",
   "version": "3.8.5"
  }
 },
 "nbformat": 4,
 "nbformat_minor": 4
}
